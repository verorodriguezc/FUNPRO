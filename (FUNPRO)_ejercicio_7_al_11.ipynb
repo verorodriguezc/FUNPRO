{
  "nbformat": 4,
  "nbformat_minor": 0,
  "metadata": {
    "colab": {
      "provenance": []
    },
    "kernelspec": {
      "name": "python3",
      "display_name": "Python 3"
    },
    "language_info": {
      "name": "python"
    }
  },
  "cells": [
    {
      "cell_type": "markdown",
      "source": [
        "Solicite que un usuario elija la operación entre dos números que desee realizar y calcule su resultado."
      ],
      "metadata": {
        "id": "inxXrkciaXxu"
      }
    },
    {
      "cell_type": "code",
      "execution_count": 9,
      "metadata": {
        "colab": {
          "base_uri": "https://localhost:8080/"
        },
        "id": "FHz9oEgmZu0e",
        "outputId": "40f04415-52b3-4fa4-e43c-fb271569c285"
      },
      "outputs": [
        {
          "name": "stdout",
          "output_type": "stream",
          "text": [
            "Ingrese el primer número: 4\n",
            "Ingrese el segundo número: 2\n"
          ]
        }
      ],
      "source": [
        "# Solicitar al usuario que ingrese dos números\n",
        "num1 = int(input(\"Ingrese el primer número: \"))\n",
        "num2 = int(input(\"Ingrese el segundo número: \"))\n",
        "\n"
      ]
    },
    {
      "cell_type": "code",
      "source": [
        "# Mostrar las opciones de operaciones\n",
        "print(\"Seleccione la operación a realizar:\")\n",
        "print(\"a) Suma\")\n",
        "print(\"b) Resta\")\n",
        "print(\"c) Multiplicación\")\n",
        "print(\"d) División\")\n",
        "print(\"e) Módulo\")\n",
        "# Solicitar la elección de la operación\n",
        "opcion = input(\"Ingrese la letra correspondiente a la operación: \").lower()\n",
        "\n",
        "# Realizar la operación seleccionada\n",
        "if opcion == 'a':\n",
        "    resultado = num1 + num2\n",
        "    print(f\"El resultado de la suma es: {resultado}\")\n",
        "elif opcion == 'b':\n",
        "    resultado = num1 - num2\n",
        "    print(f\"El resultado de la resta es: {resultado}\")\n",
        "elif opcion == 'c':\n",
        "    resultado = num1 * num2\n",
        "    print(f\"El resultado de la multiplicación es: {resultado}\")\n",
        "elif opcion == 'd':\n",
        "    if num2 != 0:\n",
        "        resultado = num1 / num2\n",
        "        print(f\"El resultado de la división es: {resultado}\")\n",
        "    else:\n",
        "        print(\"Error: No se puede dividir entre cero.\")\n",
        "elif opcion == 'e':\n",
        "    if num2 != 0:\n",
        "        resultado = num1 % num2\n",
        "        print(f\"El resultado del módulo es: {resultado}\")\n",
        "    else:\n",
        "        print(\"Error: No se puede calcular el módulo con divisor cero.\")\n",
        "else:\n",
        "    print(\"Opción no válida. Por favor, seleccione una opción correcta.\")\n",
        "\n"
      ],
      "metadata": {
        "colab": {
          "base_uri": "https://localhost:8080/"
        },
        "id": "mnbp1GsQa8Kd",
        "outputId": "da2fcb46-2426-465b-d1bf-cddb7f32a908"
      },
      "execution_count": 10,
      "outputs": [
        {
          "output_type": "stream",
          "name": "stdout",
          "text": [
            "Seleccione la operación a realizar:\n",
            "a) Suma\n",
            "b) Resta\n",
            "c) Multiplicación\n",
            "d) División\n",
            "e) Módulo\n",
            "Ingrese la letra correspondiente a la operación: c\n",
            "El resultado de la multiplicación es: 8\n"
          ]
        }
      ]
    },
    {
      "cell_type": "markdown",
      "source": [
        "programa que diga quién es el mayor entre tres personas, y por cuánto."
      ],
      "metadata": {
        "id": "WvyncXs1dIKd"
      }
    },
    {
      "cell_type": "code",
      "source": [
        "# Solicitar al usuario que ingrese las edades de tres personas\n",
        "edad1 = int(input(\"Ingrese la edad de la primera persona: \"))\n",
        "edad2 = int(input(\"Ingrese la edad de la segunda persona: \"))\n",
        "edad3 = int(input(\"Ingrese la edad de la tercera persona: \"))\n"
      ],
      "metadata": {
        "colab": {
          "base_uri": "https://localhost:8080/"
        },
        "id": "lV-loUKTc_qU",
        "outputId": "81e08fdf-56a3-4139-ca15-edc7554fe3f2"
      },
      "execution_count": 12,
      "outputs": [
        {
          "name": "stdout",
          "output_type": "stream",
          "text": [
            "Ingrese la edad de la primera persona: 4\n",
            "Ingrese la edad de la segunda persona: 5\n",
            "Ingrese la edad de la tercera persona: 10\n"
          ]
        }
      ]
    },
    {
      "cell_type": "code",
      "source": [
        "# Verificar si hay edades repetidas\n",
        "if edad1 == edad2 or edad1 == edad3 or edad2 == edad3:\n",
        "    print(\"Error: No pueden haber edades iguales.\")\n",
        "elif edad1 > edad2 and edad1 > edad3:\n",
        "    mayor = edad1\n",
        "    menor = min(edad2, edad3)\n",
        "    diferencia = mayor - menor\n",
        "    print(f\"La primera persona es la mayor con {mayor} años y la diferencia con la menor es de {diferencia} años.\")\n",
        "elif edad2 > edad1 and edad2 > edad3:\n",
        "    mayor = edad2\n",
        "    menor = min(edad1, edad3)\n",
        "    diferencia = mayor - menor\n",
        "    print(f\"La segunda persona es la mayor con {mayor} años y la diferencia con la menor es de {diferencia} años.\")\n",
        "elif edad3 > edad1 and edad3 > edad2:\n",
        "    mayor = edad3\n",
        "    menor = min(edad1, edad2)\n",
        "    diferencia = mayor - menor\n",
        "    print(f\"La tercera persona es la mayor con {mayor} años y la diferencia con la menor es de {diferencia} años.\")\n"
      ],
      "metadata": {
        "colab": {
          "base_uri": "https://localhost:8080/"
        },
        "id": "opKEawkhdYv1",
        "outputId": "7a692642-0b6e-49cc-909d-86a2055d4283"
      },
      "execution_count": 14,
      "outputs": [
        {
          "output_type": "stream",
          "name": "stdout",
          "text": [
            "La tercera persona es la mayor con 10 años y la diferencia con la menor es de 6 años.\n"
          ]
        }
      ]
    },
    {
      "cell_type": "markdown",
      "source": [
        "Crear un cajero que le permita extraer dinero al usuario, e imprimir la factura."
      ],
      "metadata": {
        "id": "xhMULlaQd6-b"
      }
    },
    {
      "cell_type": "code",
      "source": [
        "# Simulación de un cajero automático\n",
        "\n",
        "# Datos del usuario\n",
        "saldo = 100000  # Saldo inicial en la cuenta\n",
        "clave_correcta = \"1234\"  # Clave predefinida del usuario\n",
        "intentos = 0  # Contador de intentos fallidos\n",
        "\n",
        "# Solicitar clave con máximo de 3 intentos\n",
        "while intentos < 3:\n",
        "    clave = input(\"Ingrese su clave: \")\n",
        "    if clave == clave_correcta:\n",
        "        break\n",
        "    else:\n",
        "        intentos += 1\n",
        "        print(\"Clave incorrecta. Intente nuevamente.\")\n",
        "\n",
        "if intentos == 3:\n",
        "    print(\"Cajero bloqueado por múltiples intentos fallidos.\")\n",
        "else:\n",
        "    # Solicitar monto a extraer\n",
        "    monto = float(input(\"Ingrese el monto a retirar: \"))\n",
        "\n",
        "    if monto > saldo:\n",
        "        print(\"Error: Fondos insuficientes.\")\n",
        "    else:\n",
        "        saldo -= monto\n",
        "        print(\"Transacción exitosa.\")\n",
        "        print(\"\\n--- FACTURA ---\")\n",
        "        print(f\"Monto retirado: ${monto}\")\n",
        "        print(f\"Saldo restante: ${saldo}\")\n",
        "        print(\"Gracias por utilizar nuestro cajero.\")"
      ],
      "metadata": {
        "colab": {
          "base_uri": "https://localhost:8080/"
        },
        "id": "hz3sWlxEeB2W",
        "outputId": "e29982e4-bdd3-4251-de4e-33a570679d3e"
      },
      "execution_count": 18,
      "outputs": [
        {
          "output_type": "stream",
          "name": "stdout",
          "text": [
            "Ingrese su clave: 1123\n",
            "Clave incorrecta. Intente nuevamente.\n",
            "Ingrese su clave: 1234\n",
            "Ingrese el monto a retirar: 30000\n",
            "Transacción exitosa.\n",
            "\n",
            "--- FACTURA ---\n",
            "Monto retirado: $30000.0\n",
            "Saldo restante: $70000.0\n",
            "Gracias por utilizar nuestro cajero.\n"
          ]
        }
      ]
    },
    {
      "cell_type": "markdown",
      "source": [
        "Desarrollar un programa que le permita a un usuario adivinar un color (seleccionado previamente por la máquina). El usuario tiene tres oportuniades de adivinar el color"
      ],
      "metadata": {
        "id": "WMcnTip1fjuM"
      }
    },
    {
      "cell_type": "code",
      "source": [
        "import random\n",
        "\n",
        "# Lista de colores posibles\n",
        "colores = [\"rojo\", \"azul\", \"verde\", \"amarillo\", \"negro\", \"blanco\"]\n",
        "\n",
        "# La máquina selecciona un color al azar\n",
        "color_secreto = random.choice(colores)\n",
        "intentos = 0\n",
        "max_intentos = 3\n",
        "\n",
        "print(\"Adivina el color en 3 intentos\")\n",
        "\n",
        "while intentos < max_intentos:\n",
        "    intento_usuario = input(\"Ingrese un color: \").lower()\n",
        "\n",
        "    if intento_usuario == color_secreto:\n",
        "        print(\"¡Felicidades! Adivinaste el color.\")\n",
        "        break\n",
        "    else:\n",
        "        intentos += 1\n",
        "        print(\"Incorrecto. Intenta de nuevo.\")\n",
        "\n",
        "if intentos == max_intentos:\n",
        "    print(f\"Lo siento, no adivinaste. El color era {color_secreto}.\")\n",
        "\n"
      ],
      "metadata": {
        "colab": {
          "base_uri": "https://localhost:8080/"
        },
        "id": "ETb1_SeffekC",
        "outputId": "b6351d2c-1105-4063-f1d5-1a58aa39cfe4"
      },
      "execution_count": 20,
      "outputs": [
        {
          "output_type": "stream",
          "name": "stdout",
          "text": [
            "Adivina el color en 3 intentos\n",
            "Ingrese un color: rojo\n",
            "Incorrecto. Intenta de nuevo.\n",
            "Ingrese un color: blanco\n",
            "Incorrecto. Intenta de nuevo.\n",
            "Ingrese un color: azul\n",
            "Incorrecto. Intenta de nuevo.\n",
            "Lo siento, no adivinaste. El color era verde.\n"
          ]
        }
      ]
    }
  ]
}