{
  "nbformat": 4,
  "nbformat_minor": 0,
  "metadata": {
    "colab": {
      "provenance": []
    },
    "kernelspec": {
      "name": "python3",
      "display_name": "Python 3"
    },
    "language_info": {
      "name": "python"
    }
  },
  "cells": [
    {
      "cell_type": "markdown",
      "source": [
        "CALCULAR EL CUADRADO Y CUBO DE UN NUMERO ENTERO"
      ],
      "metadata": {
        "id": "Groqq56ZajXn"
      }
    },
    {
      "cell_type": "code",
      "execution_count": 7,
      "metadata": {
        "colab": {
          "base_uri": "https://localhost:8080/"
        },
        "id": "tjpWtmweaSZx",
        "outputId": "5cf076e4-9faf-488c-cda6-a33f15ca378f"
      },
      "outputs": [
        {
          "name": "stdout",
          "output_type": "stream",
          "text": [
            "Ingrese el número entero positivo: 8\n"
          ]
        }
      ],
      "source": [
        "#Leer el numero entero pisitivo\n",
        "num=int(input(\"Ingrese el número entero positivo: \"))\n"
      ]
    },
    {
      "cell_type": "code",
      "source": [
        "#imprimir \"colocar dato\"\n",
        "#leer y asignar en la variable el cuadrado. El dato es alfanumerico\n",
        "cuadrado=num*num"
      ],
      "metadata": {
        "id": "qrThXMSsbzM-"
      },
      "execution_count": 6,
      "outputs": []
    },
    {
      "cell_type": "code",
      "source": [
        "print(f\"El cuadrado de número es: {cuadrado}\")"
      ],
      "metadata": {
        "colab": {
          "base_uri": "https://localhost:8080/"
        },
        "id": "nv-kgOvqdLsF",
        "outputId": "1ecf7782-5118-406f-e26a-ac11b58dabae"
      },
      "execution_count": 10,
      "outputs": [
        {
          "output_type": "stream",
          "name": "stdout",
          "text": [
            "El cuadrado de número es: 64\n"
          ]
        }
      ]
    },
    {
      "cell_type": "code",
      "source": [
        "#imprimir \"colocar dato\"\n",
        "#leer y asignar en la variable el cubo. el dato es alfanumerico\n",
        "cubo=num*num*num"
      ],
      "metadata": {
        "id": "jAs6aMJTeFwd"
      },
      "execution_count": 12,
      "outputs": []
    },
    {
      "cell_type": "code",
      "source": [
        "print (f\"El cubo de numero es: {cubo}\")\n"
      ],
      "metadata": {
        "colab": {
          "base_uri": "https://localhost:8080/"
        },
        "id": "S2jACWHNewdk",
        "outputId": "71745d54-4b8d-49ff-c2db-e9f777765c32"
      },
      "execution_count": 13,
      "outputs": [
        {
          "output_type": "stream",
          "name": "stdout",
          "text": [
            "El cubo de numero es: 512\n"
          ]
        }
      ]
    },
    {
      "cell_type": "markdown",
      "source": [
        "CALCULAR EL PERÍMETRO Y ÁREA DE UN RECTANGULO\n"
      ],
      "metadata": {
        "id": "aF4DzpWIfJy0"
      }
    },
    {
      "cell_type": "code",
      "source": [
        "#Leer el numero entero de la base del rectangulo\n",
        "cod= int(input( \"Ingrese el numero entero de la base del rectangulo: \"))\n"
      ],
      "metadata": {
        "colab": {
          "base_uri": "https://localhost:8080/"
        },
        "id": "BnNhJMRLfSgE",
        "outputId": "6af704ff-e85b-4c41-90a1-f9ad83ceec77"
      },
      "execution_count": 18,
      "outputs": [
        {
          "name": "stdout",
          "output_type": "stream",
          "text": [
            "Ingrese el numero entero de la base del rectangulo: 5\n"
          ]
        }
      ]
    },
    {
      "cell_type": "code",
      "source": [
        "#Leer el numero entero de la base del rectangulo\n",
        "num= int(input( \"Ingrese el numero entero de la altura del rectangulo: \"))"
      ],
      "metadata": {
        "colab": {
          "base_uri": "https://localhost:8080/"
        },
        "id": "ASFzWkDPgdpj",
        "outputId": "690f894e-5b86-49ca-be9b-e77594a30bd2"
      },
      "execution_count": 19,
      "outputs": [
        {
          "name": "stdout",
          "output_type": "stream",
          "text": [
            "Ingrese el numero entero de la altura del rectangulo: 3\n"
          ]
        }
      ]
    },
    {
      "cell_type": "code",
      "source": [
        "#imprimir \"colocar dato\"\n",
        "#leer y asignar en la variable del rectangulo. el dato es alfanumerico\n",
        "perimetro=2*cod+2*num"
      ],
      "metadata": {
        "id": "nV_XVUtEfk0M"
      },
      "execution_count": 27,
      "outputs": []
    },
    {
      "cell_type": "code",
      "source": [
        "print (f\"El perimetro del rectangulo es: {perimetro}\")"
      ],
      "metadata": {
        "colab": {
          "base_uri": "https://localhost:8080/"
        },
        "id": "MsH8rS98gu4c",
        "outputId": "4c8b69a6-170e-4393-bd0a-575623ba611f"
      },
      "execution_count": 30,
      "outputs": [
        {
          "output_type": "stream",
          "name": "stdout",
          "text": [
            "El perimetro del rectangulo es: 16\n"
          ]
        }
      ]
    },
    {
      "cell_type": "code",
      "source": [
        "#imprimir \"colocar dato\"\n",
        "#leer y asignar en la variable del rectangulo. el dato es alfanumerico\n",
        "área=cod*num"
      ],
      "metadata": {
        "id": "zYYv-V3ihCfj"
      },
      "execution_count": 28,
      "outputs": []
    },
    {
      "cell_type": "code",
      "source": [
        "print (f\"El área del rectangulo es: {área}\")"
      ],
      "metadata": {
        "colab": {
          "base_uri": "https://localhost:8080/"
        },
        "id": "THL-sb3xhJRZ",
        "outputId": "e4f9e1ed-bf4e-4426-ba50-a92f9b215212"
      },
      "execution_count": 29,
      "outputs": [
        {
          "output_type": "stream",
          "name": "stdout",
          "text": [
            "El área del rectangulo es: 15\n"
          ]
        }
      ]
    }
  ]
}