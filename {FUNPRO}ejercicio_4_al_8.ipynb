{
  "nbformat": 4,
  "nbformat_minor": 0,
  "metadata": {
    "colab": {
      "provenance": []
    },
    "kernelspec": {
      "name": "python3",
      "display_name": "Python 3"
    },
    "language_info": {
      "name": "python"
    }
  },
  "cells": [
    {
      "cell_type": "markdown",
      "source": [
        "CALCULAR EL CAMBIO DE UNA COMPRA"
      ],
      "metadata": {
        "id": "_ruWagLDJvfE"
      }
    },
    {
      "cell_type": "code",
      "execution_count": 42,
      "metadata": {
        "colab": {
          "base_uri": "https://localhost:8080/"
        },
        "id": "UAlF4HCWGXtN",
        "outputId": "000cb0b5-f960-4e0f-90da-b63390517d4d"
      },
      "outputs": [
        {
          "name": "stdout",
          "output_type": "stream",
          "text": [
            "Ingrese el precio del producto: 50000\n"
          ]
        }
      ],
      "source": [
        "#Leer precio del producto\n",
        "cod= int(input(\"Ingrese el precio del producto: \"))"
      ]
    },
    {
      "cell_type": "code",
      "source": [
        "#Leer cantidad de dinero entregada\n",
        "num= int(input(\"Ingrese la cantidad de dinero entregada por el cliente: \"))\n"
      ],
      "metadata": {
        "colab": {
          "base_uri": "https://localhost:8080/"
        },
        "id": "IuVNaHUUK5Ei",
        "outputId": "c62760ef-6ce2-4c48-b209-05c6f5f2f158"
      },
      "execution_count": 43,
      "outputs": [
        {
          "name": "stdout",
          "output_type": "stream",
          "text": [
            "Ingrese la cantidad de dinero entregada por el cliente: 60000\n"
          ]
        }
      ]
    },
    {
      "cell_type": "code",
      "source": [
        "#Imprimir \"colocar dato\"\n",
        "#leer y asignar en la variable cambio. el dato es alfanumerico\n",
        "cambio= num-cod"
      ],
      "metadata": {
        "id": "8IBIKnrDNrzj"
      },
      "execution_count": 44,
      "outputs": []
    },
    {
      "cell_type": "code",
      "source": [
        "print(f\"el cambio que se le debe entregar al cliente: {cambio}\")"
      ],
      "metadata": {
        "colab": {
          "base_uri": "https://localhost:8080/"
        },
        "id": "JCPW5QaeQxIa",
        "outputId": "e1306b3c-cff9-4d2d-844a-004983771677"
      },
      "execution_count": 45,
      "outputs": [
        {
          "output_type": "stream",
          "name": "stdout",
          "text": [
            "el cambio que se le debe entregar al cliente: 10000\n"
          ]
        }
      ]
    },
    {
      "cell_type": "markdown",
      "source": [
        "CALCULAR EL ÁREA DE UN TRIANGULO"
      ],
      "metadata": {
        "id": "zMCFAeO-VXgg"
      }
    },
    {
      "cell_type": "code",
      "source": [
        "#Leer el número entero de la base del triangulo\n",
        "bse= int(input(\"Ingrese el número entero de la base del triangulo \"))"
      ],
      "metadata": {
        "colab": {
          "base_uri": "https://localhost:8080/"
        },
        "id": "4v8JnQx3WQE3",
        "outputId": "8030a90b-1866-49fd-db1e-bd1be157ef7c"
      },
      "execution_count": 18,
      "outputs": [
        {
          "name": "stdout",
          "output_type": "stream",
          "text": [
            "Ingrese el número entero de la base del triangulo 15\n"
          ]
        }
      ]
    },
    {
      "cell_type": "code",
      "source": [
        "#Leer el número entero de la altura del triangulo\n",
        "alt= int(input(\"Ingrese el número entero de la altura del triangulo \"))"
      ],
      "metadata": {
        "colab": {
          "base_uri": "https://localhost:8080/"
        },
        "id": "tUs-RZXOW1u1",
        "outputId": "fd170ebd-eff7-4f03-e597-35fe50730e9a"
      },
      "execution_count": 19,
      "outputs": [
        {
          "name": "stdout",
          "output_type": "stream",
          "text": [
            "Ingrese el número entero de la altura del triangulo 18\n"
          ]
        }
      ]
    },
    {
      "cell_type": "code",
      "source": [
        "#Imprimir \"colocar dato\"\n",
        "#Leer y asignar en la variable del triangulo. el dato es alfanumerico\n",
        "area= (bse*alt)/2"
      ],
      "metadata": {
        "id": "ZFIzEHUYXWh1"
      },
      "execution_count": 21,
      "outputs": []
    },
    {
      "cell_type": "code",
      "source": [
        "print(f\"el área del triangulo es: {area}\")"
      ],
      "metadata": {
        "colab": {
          "base_uri": "https://localhost:8080/"
        },
        "id": "zAO9_Bd_ZAly",
        "outputId": "88aae64f-289b-4c31-bfd3-8bd2aa734735"
      },
      "execution_count": 22,
      "outputs": [
        {
          "output_type": "stream",
          "name": "stdout",
          "text": [
            "el área del triangulo es: 135.0\n"
          ]
        }
      ]
    },
    {
      "cell_type": "markdown",
      "source": [
        "CALCULAR EL NÚMERO DE SEGUNDOS EN UN NÚMERO DE DIAS"
      ],
      "metadata": {
        "id": "c5yZnNlLZf6O"
      }
    },
    {
      "cell_type": "code",
      "source": [
        "#Leer el número entero de la cantidad de dias\n",
        "dias= int(input(\"Ingrese el número entero de la cantidad de dias: \"))"
      ],
      "metadata": {
        "colab": {
          "base_uri": "https://localhost:8080/"
        },
        "id": "jDJ0wmimZnyw",
        "outputId": "88aa38ff-030d-40c3-ce69-5498f9d7f0d9"
      },
      "execution_count": 25,
      "outputs": [
        {
          "name": "stdout",
          "output_type": "stream",
          "text": [
            "Ingrese el número entero de la cantidad de dias: 3\n"
          ]
        }
      ]
    },
    {
      "cell_type": "code",
      "source": [
        "#imprimir \"colocar dato\"\n",
        "#leer y asignar en la variable de segundos. el dato es alfanumerico\n",
        "segundos= dias*24*60*60"
      ],
      "metadata": {
        "id": "ByE-DBVla2ht"
      },
      "execution_count": 27,
      "outputs": []
    },
    {
      "cell_type": "code",
      "source": [
        "print(f\"el número de segundos en los días dados: {segundos}\")"
      ],
      "metadata": {
        "colab": {
          "base_uri": "https://localhost:8080/"
        },
        "id": "8D9io2xSbarC",
        "outputId": "b38d1238-dbfe-4adf-b626-4c854744d42c"
      },
      "execution_count": 31,
      "outputs": [
        {
          "output_type": "stream",
          "name": "stdout",
          "text": [
            "el número de segundos en los días dados: 259200\n"
          ]
        }
      ]
    },
    {
      "cell_type": "markdown",
      "source": [
        "CALCULAR EL ÁREA DE UN TRIANGULO DADO LOS TRES LADOS"
      ],
      "metadata": {
        "id": "8ntfg160cOjE"
      }
    },
    {
      "cell_type": "code",
      "source": [
        "#Leer medidas de los tres lados de un triangulo\n",
        "lado1= float(input(\"Ingrese la medida del primer lado del triangulo: \"))\n",
        "lado2= float(input(\"Ingrese la medida del segundo lado del triangulo: \"))\n",
        "lado3= float(input(\"Ingrese la medida del tercer lado del triangulo: \"))"
      ],
      "metadata": {
        "colab": {
          "base_uri": "https://localhost:8080/"
        },
        "id": "I3eftOpoqM27",
        "outputId": "4f0a0e6f-14ff-47b1-eb7c-400eda55295b"
      },
      "execution_count": 48,
      "outputs": [
        {
          "name": "stdout",
          "output_type": "stream",
          "text": [
            "Ingrese la medida del primer lado del triangulo: 12.2\n",
            "Ingrese la medida del segundo lado del triangulo: 13.5\n",
            "Ingrese la medida del tercer lado del triangulo: 11.0\n"
          ]
        }
      ]
    },
    {
      "cell_type": "code",
      "source": [
        "#imprimir \"colocar dato\"\n",
        "#leer y asignar en la variable de semiperimetro. el dato es alfanumerico\n",
        "semiperimetro= (lado1+lado2+lado3)/2"
      ],
      "metadata": {
        "id": "J2Poi1n7sOSa"
      },
      "execution_count": 51,
      "outputs": []
    },
    {
      "cell_type": "code",
      "source": [
        "#imprimir \"colocar dato\"\n",
        "#leer y asignar en la variable de area. el dato es alfanumerico\n",
        "area= (semiperimetro*(semiperimetro-lado1)*(semiperimetro-lado2)*(semiperimetro-lado3))**0.5"
      ],
      "metadata": {
        "id": "Ype0Z6C8skFY"
      },
      "execution_count": 55,
      "outputs": []
    },
    {
      "cell_type": "code",
      "source": [
        "print(f\"el área del triangulo es: {area}\")"
      ],
      "metadata": {
        "colab": {
          "base_uri": "https://localhost:8080/"
        },
        "id": "Zkn12dA7w2Wn",
        "outputId": "740d0ecd-87b4-40f4-dce8-d00078054a94"
      },
      "execution_count": 56,
      "outputs": [
        {
          "output_type": "stream",
          "name": "stdout",
          "text": [
            "el área del triangulo es: 63.42641006512984\n"
          ]
        }
      ]
    },
    {
      "cell_type": "markdown",
      "source": [
        "CALCULAR DISTANCIA ENTRE DOS PUNTOS EN UN PLANO CARTESIANO"
      ],
      "metadata": {
        "id": "nnWGEjqZ54XK"
      }
    },
    {
      "cell_type": "code",
      "source": [
        "#Leer el número entero de las coordenadas de los dos puntps\n",
        "coordenada1= (input(\"Ingrese las coordenadas p1 (x,y): \"))\n",
        "coordenada2= (input(\"Ingrese las coordenadas p2(x,y): \"))"
      ],
      "metadata": {
        "colab": {
          "base_uri": "https://localhost:8080/"
        },
        "id": "FDUjJTMb6C1k",
        "outputId": "57f9c903-d4a1-48fe-b4c8-aa7b7def0cea"
      },
      "execution_count": 59,
      "outputs": [
        {
          "name": "stdout",
          "output_type": "stream",
          "text": [
            "Ingrese las coordenadas p1 (x,y): 2,3\n",
            "Ingrese las coordenadas p2(x,y): 3,5\n"
          ]
        }
      ]
    },
    {
      "cell_type": "code",
      "source": [
        "#imprimir \"colocar dato\"\n",
        "#leer y asignar coordenadas\n",
        "x1,y1= map(int, coordenada1.split(','))\n",
        "x2,y2= map(int, coordenada2.split(','))"
      ],
      "metadata": {
        "id": "4dvZx54MAK5Q"
      },
      "execution_count": 61,
      "outputs": []
    },
    {
      "cell_type": "code",
      "source": [
        "#imprimir \"colocar dato\"\n",
        "#leer y asignar en la variable distancia.\n",
        "distancia= ((x2-x1)**2+(y2-y1)**2)**0.5"
      ],
      "metadata": {
        "id": "74vYUefrOYBl"
      },
      "execution_count": 63,
      "outputs": []
    },
    {
      "cell_type": "code",
      "source": [
        "print(f\"la distancia entre los dos puntos es: {distancia}\")"
      ],
      "metadata": {
        "colab": {
          "base_uri": "https://localhost:8080/"
        },
        "id": "HiIuqlXBOuXl",
        "outputId": "0dc7540a-975a-4f4b-d863-1417ef8242ee"
      },
      "execution_count": 64,
      "outputs": [
        {
          "output_type": "stream",
          "name": "stdout",
          "text": [
            "la distancia entre los dos puntos es: 2.23606797749979\n"
          ]
        }
      ]
    },
    {
      "cell_type": "markdown",
      "source": [],
      "metadata": {
        "id": "7EpjghBe59Q8"
      }
    }
  ]
}